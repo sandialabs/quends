{
 "cells": [
  {
   "cell_type": "markdown",
   "id": "8a4695b8",
   "metadata": {},
   "source": [
    "# DataStream Class - Jupyter Notebook Guide\n",
    "\n",
    "This notebook demonstrates the usage of the `DataStream` class, which provides methods for analyzing time-series data.\n",
    "\n",
    "### Features:\n",
    "- **Trimming**: Identifies steady-state regions in data.\n",
    "- **Statistical Analysis**: Computes mean, standard deviation, confidence intervals, and cumulative statistics.\n",
    "- **Stationarity Testing**: Uses the Augmented Dickey-Fuller test.\n",
    "- **Effective Sample Size (ESS)**: Estimates the independent sample size.\n",
    "- **Optimal Window Size**: Determines the best window for data smoothing.\n"
   ]
  },
  {
   "cell_type": "code",
   "execution_count": 1,
   "id": "dc257662",
   "metadata": {},
   "outputs": [],
   "source": [
    "# Import required libraries\n",
    "import pandas as pd\n",
    "import numpy as np\n",
    "import matplotlib.pyplot as plt\n",
    "\n",
    "import sys\n",
    "import os\n",
    "\n",
    "# Now we can import DataStream\n",
    "import quends as qnds"
   ]
  },
  {
   "cell_type": "markdown",
   "id": "133c5f0c-44f7-463f-a3ed-440b7b553cbf",
   "metadata": {},
   "source": [
    "## GX Data Analysis"
   ]
  },
  {
   "cell_type": "code",
   "execution_count": 2,
   "id": "5d0f18b0",
   "metadata": {},
   "outputs": [],
   "source": [
    "# Specify the file paths\n",
    "csv_file_path = \"gx/tprim_2_0.out.csv\"  \n",
    "csv2_file_path = \"gx/ensemble/tprim_2_5_a.out.csv\""
   ]
  },
  {
   "cell_type": "code",
   "execution_count": 3,
   "id": "92fc520a-9d05-445e-ab3b-8d8fd0f3bae4",
   "metadata": {},
   "outputs": [],
   "source": [
    "data_stream_csv = qnds.from_csv(csv_file_path)\n",
    "data_stream_gx = qnds.from_csv(csv2_file_path)"
   ]
  },
  {
   "cell_type": "code",
   "execution_count": 4,
   "id": "896f9439-b36c-499b-a5ed-a31008ca962a",
   "metadata": {},
   "outputs": [
    {
     "data": {
      "text/html": [
       "<div>\n",
       "<style scoped>\n",
       "    .dataframe tbody tr th:only-of-type {\n",
       "        vertical-align: middle;\n",
       "    }\n",
       "\n",
       "    .dataframe tbody tr th {\n",
       "        vertical-align: top;\n",
       "    }\n",
       "\n",
       "    .dataframe thead th {\n",
       "        text-align: right;\n",
       "    }\n",
       "</style>\n",
       "<table border=\"1\" class=\"dataframe\">\n",
       "  <thead>\n",
       "    <tr style=\"text-align: right;\">\n",
       "      <th></th>\n",
       "      <th>time</th>\n",
       "      <th>Phi2_t</th>\n",
       "      <th>Phi2_kxt</th>\n",
       "      <th>Phi2_kyt</th>\n",
       "      <th>Phi2_kxkyt</th>\n",
       "      <th>Phi2_zt</th>\n",
       "      <th>Apar2_t</th>\n",
       "      <th>Apar2_kxt</th>\n",
       "      <th>Apar2_kyt</th>\n",
       "      <th>Apar2_kxkyt</th>\n",
       "      <th>...</th>\n",
       "      <th>ParticleFlux_st</th>\n",
       "      <th>ParticleFlux_kxst</th>\n",
       "      <th>ParticleFlux_kyst</th>\n",
       "      <th>ParticleFlux_kxkyst</th>\n",
       "      <th>ParticleFlux_zst</th>\n",
       "      <th>TurbulentHeating_st</th>\n",
       "      <th>TurbulentHeating_kxst</th>\n",
       "      <th>TurbulentHeating_kyst</th>\n",
       "      <th>TurbulentHeating_kxkyst</th>\n",
       "      <th>TurbulentHeating_zst</th>\n",
       "    </tr>\n",
       "  </thead>\n",
       "  <tbody>\n",
       "    <tr>\n",
       "      <th>0</th>\n",
       "      <td>0.020072</td>\n",
       "      <td>0.000322</td>\n",
       "      <td>1.014122e-06</td>\n",
       "      <td>5.556982e-15</td>\n",
       "      <td>1.283244e-17</td>\n",
       "      <td>0.000004</td>\n",
       "      <td>0.0</td>\n",
       "      <td>0.0</td>\n",
       "      <td>0.0</td>\n",
       "      <td>0.0</td>\n",
       "      <td>...</td>\n",
       "      <td>0.0</td>\n",
       "      <td>0.0</td>\n",
       "      <td>0.0</td>\n",
       "      <td>0.0</td>\n",
       "      <td>0.0</td>\n",
       "      <td>-4.513479e-11</td>\n",
       "      <td>-1.238711e-14</td>\n",
       "      <td>0.000000e+00</td>\n",
       "      <td>0.0</td>\n",
       "      <td>-1.328687e-12</td>\n",
       "    </tr>\n",
       "    <tr>\n",
       "      <th>1</th>\n",
       "      <td>2.027322</td>\n",
       "      <td>0.000236</td>\n",
       "      <td>9.462429e-07</td>\n",
       "      <td>1.035192e-05</td>\n",
       "      <td>3.763393e-17</td>\n",
       "      <td>0.000004</td>\n",
       "      <td>0.0</td>\n",
       "      <td>0.0</td>\n",
       "      <td>0.0</td>\n",
       "      <td>0.0</td>\n",
       "      <td>...</td>\n",
       "      <td>0.0</td>\n",
       "      <td>0.0</td>\n",
       "      <td>0.0</td>\n",
       "      <td>0.0</td>\n",
       "      <td>0.0</td>\n",
       "      <td>6.326710e-12</td>\n",
       "      <td>-1.907196e-13</td>\n",
       "      <td>-2.302137e-12</td>\n",
       "      <td>0.0</td>\n",
       "      <td>-1.325463e-12</td>\n",
       "    </tr>\n",
       "    <tr>\n",
       "      <th>2</th>\n",
       "      <td>4.034571</td>\n",
       "      <td>0.000198</td>\n",
       "      <td>1.138735e-06</td>\n",
       "      <td>9.805337e-06</td>\n",
       "      <td>1.168341e-16</td>\n",
       "      <td>0.000005</td>\n",
       "      <td>0.0</td>\n",
       "      <td>0.0</td>\n",
       "      <td>0.0</td>\n",
       "      <td>0.0</td>\n",
       "      <td>...</td>\n",
       "      <td>0.0</td>\n",
       "      <td>0.0</td>\n",
       "      <td>0.0</td>\n",
       "      <td>0.0</td>\n",
       "      <td>0.0</td>\n",
       "      <td>-4.022337e-12</td>\n",
       "      <td>-2.190608e-13</td>\n",
       "      <td>-1.575239e-12</td>\n",
       "      <td>0.0</td>\n",
       "      <td>-4.890709e-13</td>\n",
       "    </tr>\n",
       "    <tr>\n",
       "      <th>3</th>\n",
       "      <td>6.041821</td>\n",
       "      <td>0.000206</td>\n",
       "      <td>1.060234e-06</td>\n",
       "      <td>9.191237e-06</td>\n",
       "      <td>2.735980e-16</td>\n",
       "      <td>0.000005</td>\n",
       "      <td>0.0</td>\n",
       "      <td>0.0</td>\n",
       "      <td>0.0</td>\n",
       "      <td>0.0</td>\n",
       "      <td>...</td>\n",
       "      <td>0.0</td>\n",
       "      <td>0.0</td>\n",
       "      <td>0.0</td>\n",
       "      <td>0.0</td>\n",
       "      <td>0.0</td>\n",
       "      <td>-1.022327e-11</td>\n",
       "      <td>-3.670521e-13</td>\n",
       "      <td>-1.553083e-13</td>\n",
       "      <td>0.0</td>\n",
       "      <td>-8.325619e-13</td>\n",
       "    </tr>\n",
       "    <tr>\n",
       "      <th>4</th>\n",
       "      <td>8.049070</td>\n",
       "      <td>0.000245</td>\n",
       "      <td>1.066248e-06</td>\n",
       "      <td>1.006626e-05</td>\n",
       "      <td>1.340230e-16</td>\n",
       "      <td>0.000005</td>\n",
       "      <td>0.0</td>\n",
       "      <td>0.0</td>\n",
       "      <td>0.0</td>\n",
       "      <td>0.0</td>\n",
       "      <td>...</td>\n",
       "      <td>0.0</td>\n",
       "      <td>0.0</td>\n",
       "      <td>0.0</td>\n",
       "      <td>0.0</td>\n",
       "      <td>0.0</td>\n",
       "      <td>-1.445467e-11</td>\n",
       "      <td>-5.255198e-14</td>\n",
       "      <td>2.001172e-12</td>\n",
       "      <td>0.0</td>\n",
       "      <td>-6.776345e-13</td>\n",
       "    </tr>\n",
       "  </tbody>\n",
       "</table>\n",
       "<p>5 rows × 60 columns</p>\n",
       "</div>"
      ],
      "text/plain": [
       "       time    Phi2_t      Phi2_kxt      Phi2_kyt    Phi2_kxkyt   Phi2_zt  \\\n",
       "0  0.020072  0.000322  1.014122e-06  5.556982e-15  1.283244e-17  0.000004   \n",
       "1  2.027322  0.000236  9.462429e-07  1.035192e-05  3.763393e-17  0.000004   \n",
       "2  4.034571  0.000198  1.138735e-06  9.805337e-06  1.168341e-16  0.000005   \n",
       "3  6.041821  0.000206  1.060234e-06  9.191237e-06  2.735980e-16  0.000005   \n",
       "4  8.049070  0.000245  1.066248e-06  1.006626e-05  1.340230e-16  0.000005   \n",
       "\n",
       "   Apar2_t  Apar2_kxt  Apar2_kyt  Apar2_kxkyt  ...  ParticleFlux_st  \\\n",
       "0      0.0        0.0        0.0          0.0  ...              0.0   \n",
       "1      0.0        0.0        0.0          0.0  ...              0.0   \n",
       "2      0.0        0.0        0.0          0.0  ...              0.0   \n",
       "3      0.0        0.0        0.0          0.0  ...              0.0   \n",
       "4      0.0        0.0        0.0          0.0  ...              0.0   \n",
       "\n",
       "   ParticleFlux_kxst  ParticleFlux_kyst  ParticleFlux_kxkyst  \\\n",
       "0                0.0                0.0                  0.0   \n",
       "1                0.0                0.0                  0.0   \n",
       "2                0.0                0.0                  0.0   \n",
       "3                0.0                0.0                  0.0   \n",
       "4                0.0                0.0                  0.0   \n",
       "\n",
       "   ParticleFlux_zst  TurbulentHeating_st  TurbulentHeating_kxst  \\\n",
       "0               0.0        -4.513479e-11          -1.238711e-14   \n",
       "1               0.0         6.326710e-12          -1.907196e-13   \n",
       "2               0.0        -4.022337e-12          -2.190608e-13   \n",
       "3               0.0        -1.022327e-11          -3.670521e-13   \n",
       "4               0.0        -1.445467e-11          -5.255198e-14   \n",
       "\n",
       "   TurbulentHeating_kyst  TurbulentHeating_kxkyst  TurbulentHeating_zst  \n",
       "0           0.000000e+00                      0.0         -1.328687e-12  \n",
       "1          -2.302137e-12                      0.0         -1.325463e-12  \n",
       "2          -1.575239e-12                      0.0         -4.890709e-13  \n",
       "3          -1.553083e-13                      0.0         -8.325619e-13  \n",
       "4           2.001172e-12                      0.0         -6.776345e-13  \n",
       "\n",
       "[5 rows x 60 columns]"
      ]
     },
     "execution_count": 4,
     "metadata": {},
     "output_type": "execute_result"
    }
   ],
   "source": [
    "data_stream_gx.head()"
   ]
  },
  {
   "cell_type": "code",
   "execution_count": 5,
   "id": "0b3e0412-b634-47cc-8868-145ddf4e20fb",
   "metadata": {},
   "outputs": [
    {
     "data": {
      "text/plain": [
       "Index(['time', 'Phi2_t', 'Phi2_kxt', 'Phi2_kyt', 'Phi2_kxkyt', 'Phi2_zt',\n",
       "       'Apar2_t', 'Apar2_kxt', 'Apar2_kyt', 'Apar2_kxkyt', 'Apar2_zt',\n",
       "       'Phi2_zonal_t', 'Phi2_zonal_kxt', 'Phi2_zonal_zt', 'Wg_st', 'Wg_kxst',\n",
       "       'Wg_kyst', 'Wg_kxkyst', 'Wg_zst', 'Wg_lmst', 'Wphi_st', 'Wphi_kxst',\n",
       "       'Wphi_kyst', 'Wphi_kxkyst', 'Wphi_zst', 'Wapar_st', 'Wapar_kxst',\n",
       "       'Wapar_kyst', 'Wapar_kxkyst', 'Wapar_zst', 'HeatFlux_st',\n",
       "       'HeatFlux_kxst', 'HeatFlux_kyst', 'HeatFlux_kxkyst', 'HeatFlux_zst',\n",
       "       'HeatFluxES_st', 'HeatFluxES_kxst', 'HeatFluxES_kyst',\n",
       "       'HeatFluxES_kxkyst', 'HeatFluxES_zst', 'HeatFluxApar_st',\n",
       "       'HeatFluxApar_kxst', 'HeatFluxApar_kyst', 'HeatFluxApar_kxkyst',\n",
       "       'HeatFluxApar_zst', 'HeatFluxBpar_st', 'HeatFluxBpar_kxst',\n",
       "       'HeatFluxBpar_kyst', 'HeatFluxBpar_kxkyst', 'HeatFluxBpar_zst',\n",
       "       'ParticleFlux_st', 'ParticleFlux_kxst', 'ParticleFlux_kyst',\n",
       "       'ParticleFlux_kxkyst', 'ParticleFlux_zst', 'TurbulentHeating_st',\n",
       "       'TurbulentHeating_kxst', 'TurbulentHeating_kyst',\n",
       "       'TurbulentHeating_kxkyst', 'TurbulentHeating_zst'],\n",
       "      dtype='object')"
      ]
     },
     "execution_count": 5,
     "metadata": {},
     "output_type": "execute_result"
    }
   ],
   "source": [
    "# Get available variables\n",
    "data_stream_gx.variables()"
   ]
  },
  {
   "cell_type": "code",
   "execution_count": 6,
   "id": "eaad0cb8-c466-4fbb-926e-10693389d72e",
   "metadata": {},
   "outputs": [
    {
     "data": {
      "text/plain": [
       "201"
      ]
     },
     "execution_count": 6,
     "metadata": {},
     "output_type": "execute_result"
    }
   ],
   "source": [
    "# Get the number of rows\n",
    "len(data_stream_gx)"
   ]
  },
  {
   "cell_type": "markdown",
   "id": "3bc870ce-694c-433f-8ee6-2f99e2aa6c29",
   "metadata": {},
   "source": [
    "### Stationarity check"
   ]
  },
  {
   "cell_type": "code",
   "execution_count": 7,
   "id": "e518ca31",
   "metadata": {},
   "outputs": [
    {
     "data": {
      "text/plain": [
       "{'HeatFlux_st': True, 'Wg_st': True, 'Phi2_t': False}"
      ]
     },
     "execution_count": 7,
     "metadata": {},
     "output_type": "execute_result"
    }
   ],
   "source": [
    "# Check if a single column is stationary\n",
    "data_stream_gx.is_stationary(\"HeatFlux_st\")\n",
    "\n",
    "\n",
    "# Check if multiple columns are stationary\n",
    "data_stream_gx.is_stationary([\"HeatFlux_st\", \"Wg_st\", 'Phi2_t'])\n",
    "\n"
   ]
  },
  {
   "cell_type": "markdown",
   "id": "88ae0912-c8d7-48ea-ac47-b261a51dbea5",
   "metadata": {},
   "source": [
    "### Trimming data based to obtain steady-state portion"
   ]
  },
  {
   "cell_type": "code",
   "execution_count": 8,
   "id": "6583e7e8",
   "metadata": {},
   "outputs": [
    {
     "data": {
      "text/html": [
       "<div>\n",
       "<style scoped>\n",
       "    .dataframe tbody tr th:only-of-type {\n",
       "        vertical-align: middle;\n",
       "    }\n",
       "\n",
       "    .dataframe tbody tr th {\n",
       "        vertical-align: top;\n",
       "    }\n",
       "\n",
       "    .dataframe thead th {\n",
       "        text-align: right;\n",
       "    }\n",
       "</style>\n",
       "<table border=\"1\" class=\"dataframe\">\n",
       "  <thead>\n",
       "    <tr style=\"text-align: right;\">\n",
       "      <th></th>\n",
       "      <th>time</th>\n",
       "      <th>HeatFlux_st</th>\n",
       "    </tr>\n",
       "  </thead>\n",
       "  <tbody>\n",
       "    <tr>\n",
       "      <th>0</th>\n",
       "      <td>158.592772</td>\n",
       "      <td>8.508736</td>\n",
       "    </tr>\n",
       "    <tr>\n",
       "      <th>1</th>\n",
       "      <td>160.600022</td>\n",
       "      <td>8.699987</td>\n",
       "    </tr>\n",
       "    <tr>\n",
       "      <th>2</th>\n",
       "      <td>162.607271</td>\n",
       "      <td>8.852156</td>\n",
       "    </tr>\n",
       "    <tr>\n",
       "      <th>3</th>\n",
       "      <td>164.614520</td>\n",
       "      <td>8.883341</td>\n",
       "    </tr>\n",
       "    <tr>\n",
       "      <th>4</th>\n",
       "      <td>166.621770</td>\n",
       "      <td>8.713289</td>\n",
       "    </tr>\n",
       "  </tbody>\n",
       "</table>\n",
       "</div>"
      ],
      "text/plain": [
       "         time  HeatFlux_st\n",
       "0  158.592772     8.508736\n",
       "1  160.600022     8.699987\n",
       "2  162.607271     8.852156\n",
       "3  164.614520     8.883341\n",
       "4  166.621770     8.713289"
      ]
     },
     "execution_count": 8,
     "metadata": {},
     "output_type": "execute_result"
    }
   ],
   "source": [
    "# Trim the data based on standard deviation method\n",
    "trimmed_df = data_stream_gx.trim(column_name='HeatFlux_st', window_size = 50, method='std')\n",
    "# View trimmed data\n",
    "trimmed_df.head()\n"
   ]
  },
  {
   "cell_type": "code",
   "execution_count": 9,
   "id": "b6257cbe-bee1-476c-900f-d679e4683763",
   "metadata": {},
   "outputs": [
    {
     "data": {
      "text/html": [
       "<div>\n",
       "<style scoped>\n",
       "    .dataframe tbody tr th:only-of-type {\n",
       "        vertical-align: middle;\n",
       "    }\n",
       "\n",
       "    .dataframe tbody tr th {\n",
       "        vertical-align: top;\n",
       "    }\n",
       "\n",
       "    .dataframe thead th {\n",
       "        text-align: right;\n",
       "    }\n",
       "</style>\n",
       "<table border=\"1\" class=\"dataframe\">\n",
       "  <thead>\n",
       "    <tr style=\"text-align: right;\">\n",
       "      <th></th>\n",
       "      <th>time</th>\n",
       "      <th>HeatFlux_st</th>\n",
       "    </tr>\n",
       "  </thead>\n",
       "  <tbody>\n",
       "    <tr>\n",
       "      <th>0</th>\n",
       "      <td>158.592772</td>\n",
       "      <td>8.508736</td>\n",
       "    </tr>\n",
       "    <tr>\n",
       "      <th>1</th>\n",
       "      <td>160.600022</td>\n",
       "      <td>8.699987</td>\n",
       "    </tr>\n",
       "    <tr>\n",
       "      <th>2</th>\n",
       "      <td>162.607271</td>\n",
       "      <td>8.852156</td>\n",
       "    </tr>\n",
       "    <tr>\n",
       "      <th>3</th>\n",
       "      <td>164.614520</td>\n",
       "      <td>8.883341</td>\n",
       "    </tr>\n",
       "    <tr>\n",
       "      <th>4</th>\n",
       "      <td>166.621770</td>\n",
       "      <td>8.713289</td>\n",
       "    </tr>\n",
       "  </tbody>\n",
       "</table>\n",
       "</div>"
      ],
      "text/plain": [
       "         time  HeatFlux_st\n",
       "0  158.592772     8.508736\n",
       "1  160.600022     8.699987\n",
       "2  162.607271     8.852156\n",
       "3  164.614520     8.883341\n",
       "4  166.621770     8.713289"
      ]
     },
     "execution_count": 9,
     "metadata": {},
     "output_type": "execute_result"
    }
   ],
   "source": [
    "new_trimmed_df = trimmed_df.trim(column_name='HeatFlux_st', window_size = 50, method='std')\n",
    "new_trimmed_df.head()"
   ]
  },
  {
   "cell_type": "code",
   "execution_count": 10,
   "id": "d89a3c80-9134-4480-a2de-72a735742b47",
   "metadata": {},
   "outputs": [
    {
     "data": {
      "text/html": [
       "<div>\n",
       "<style scoped>\n",
       "    .dataframe tbody tr th:only-of-type {\n",
       "        vertical-align: middle;\n",
       "    }\n",
       "\n",
       "    .dataframe tbody tr th {\n",
       "        vertical-align: top;\n",
       "    }\n",
       "\n",
       "    .dataframe thead th {\n",
       "        text-align: right;\n",
       "    }\n",
       "</style>\n",
       "<table border=\"1\" class=\"dataframe\">\n",
       "  <thead>\n",
       "    <tr style=\"text-align: right;\">\n",
       "      <th></th>\n",
       "      <th>time</th>\n",
       "      <th>HeatFlux_st</th>\n",
       "    </tr>\n",
       "  </thead>\n",
       "  <tbody>\n",
       "    <tr>\n",
       "      <th>0</th>\n",
       "      <td>196.730510</td>\n",
       "      <td>8.860607</td>\n",
       "    </tr>\n",
       "    <tr>\n",
       "      <th>1</th>\n",
       "      <td>198.737760</td>\n",
       "      <td>8.808473</td>\n",
       "    </tr>\n",
       "    <tr>\n",
       "      <th>2</th>\n",
       "      <td>200.745009</td>\n",
       "      <td>8.586773</td>\n",
       "    </tr>\n",
       "    <tr>\n",
       "      <th>3</th>\n",
       "      <td>202.752258</td>\n",
       "      <td>8.324471</td>\n",
       "    </tr>\n",
       "    <tr>\n",
       "      <th>4</th>\n",
       "      <td>204.759508</td>\n",
       "      <td>8.198135</td>\n",
       "    </tr>\n",
       "  </tbody>\n",
       "</table>\n",
       "</div>"
      ],
      "text/plain": [
       "         time  HeatFlux_st\n",
       "0  196.730510     8.860607\n",
       "1  198.737760     8.808473\n",
       "2  200.745009     8.586773\n",
       "3  202.752258     8.324471\n",
       "4  204.759508     8.198135"
      ]
     },
     "execution_count": 10,
     "metadata": {},
     "output_type": "execute_result"
    }
   ],
   "source": [
    "# Trim the data based on threshold method\n",
    "trimmed_df = data_stream_gx.trim(column_name='HeatFlux_st', window_size = 50, method='threshold', threshold = 0.1 )\n",
    "# View trimmed data\n",
    "trimmed_df.head()"
   ]
  },
  {
   "cell_type": "code",
   "execution_count": 11,
   "id": "b702581b-c1c0-4365-ba43-7a2726d420f4",
   "metadata": {},
   "outputs": [
    {
     "data": {
      "text/html": [
       "<div>\n",
       "<style scoped>\n",
       "    .dataframe tbody tr th:only-of-type {\n",
       "        vertical-align: middle;\n",
       "    }\n",
       "\n",
       "    .dataframe tbody tr th {\n",
       "        vertical-align: top;\n",
       "    }\n",
       "\n",
       "    .dataframe thead th {\n",
       "        text-align: right;\n",
       "    }\n",
       "</style>\n",
       "<table border=\"1\" class=\"dataframe\">\n",
       "  <thead>\n",
       "    <tr style=\"text-align: right;\">\n",
       "      <th></th>\n",
       "      <th>time</th>\n",
       "      <th>HeatFlux_st</th>\n",
       "    </tr>\n",
       "  </thead>\n",
       "  <tbody>\n",
       "    <tr>\n",
       "      <th>0</th>\n",
       "      <td>196.730510</td>\n",
       "      <td>8.860607</td>\n",
       "    </tr>\n",
       "    <tr>\n",
       "      <th>1</th>\n",
       "      <td>198.737760</td>\n",
       "      <td>8.808473</td>\n",
       "    </tr>\n",
       "    <tr>\n",
       "      <th>2</th>\n",
       "      <td>200.745009</td>\n",
       "      <td>8.586773</td>\n",
       "    </tr>\n",
       "    <tr>\n",
       "      <th>3</th>\n",
       "      <td>202.752258</td>\n",
       "      <td>8.324471</td>\n",
       "    </tr>\n",
       "    <tr>\n",
       "      <th>4</th>\n",
       "      <td>204.759508</td>\n",
       "      <td>8.198135</td>\n",
       "    </tr>\n",
       "  </tbody>\n",
       "</table>\n",
       "</div>"
      ],
      "text/plain": [
       "         time  HeatFlux_st\n",
       "0  196.730510     8.860607\n",
       "1  198.737760     8.808473\n",
       "2  200.745009     8.586773\n",
       "3  202.752258     8.324471\n",
       "4  204.759508     8.198135"
      ]
     },
     "execution_count": 11,
     "metadata": {},
     "output_type": "execute_result"
    }
   ],
   "source": [
    "# Trim the data based on threshold method\n",
    "trimmed_df = data_stream_gx.trim(column_name='HeatFlux_st', window_size = 50, method='rolling_variance', threshold = 0.10)\n",
    "# View trimmed data\n",
    "trimmed_df.head()"
   ]
  },
  {
   "cell_type": "markdown",
   "id": "239abff2-6624-4f4f-8c5b-06b8d5ce6e65",
   "metadata": {},
   "source": [
    "### Effective Sample Size"
   ]
  },
  {
   "cell_type": "code",
   "execution_count": 12,
   "id": "929dff41",
   "metadata": {},
   "outputs": [
    {
     "data": {
      "text/plain": [
       "{'HeatFlux_st': 24, 'Wg_st': 10}"
      ]
     },
     "execution_count": 12,
     "metadata": {},
     "output_type": "execute_result"
    }
   ],
   "source": [
    "ess_dict = data_stream_gx.effective_sample_size(column_names = [\"HeatFlux_st\", 'Wg_st'])\n",
    "ess_dict"
   ]
  },
  {
   "cell_type": "code",
   "execution_count": 13,
   "id": "475f75b6-0414-4b89-82e2-816247354ea0",
   "metadata": {},
   "outputs": [
    {
     "data": {
      "text/plain": [
       "{'HeatFlux_st': 6}"
      ]
     },
     "execution_count": 13,
     "metadata": {},
     "output_type": "execute_result"
    }
   ],
   "source": [
    "ess_df = trimmed_df.effective_sample_size()\n",
    "ess_df"
   ]
  },
  {
   "cell_type": "code",
   "execution_count": null,
   "id": "6afc3ffc-2db4-4ead-aad8-175c8d34befe",
   "metadata": {},
   "outputs": [],
   "source": []
  },
  {
   "cell_type": "markdown",
   "id": "91196f53-0968-4057-a208-0816e0b1723b",
   "metadata": {},
   "source": [
    "## UQ Analysis"
   ]
  },
  {
   "cell_type": "code",
   "execution_count": 14,
   "id": "e82ba5e9",
   "metadata": {},
   "outputs": [
    {
     "data": {
      "text/plain": [
       "{'HeatFlux_st': {'mean': 7.815731042731574,\n",
       "  'mean_uncertainty': 0.05992075505570511,\n",
       "  'confidence_interval': (7.698286362822392, 7.933175722640756),\n",
       "  'pm_std': (7.755810287675869, 7.875651797787279)}}"
      ]
     },
     "execution_count": 14,
     "metadata": {},
     "output_type": "execute_result"
    }
   ],
   "source": [
    "stats = trimmed_df.compute_statistics(method=\"sliding\")\n",
    "stats\n"
   ]
  },
  {
   "cell_type": "code",
   "execution_count": null,
   "id": "edb75a00-0561-48e3-8324-a5533482cf9a",
   "metadata": {},
   "outputs": [],
   "source": []
  },
  {
   "cell_type": "code",
   "execution_count": 15,
   "id": "fd51a97f-55a3-4a24-9faa-bc373a1bb471",
   "metadata": {},
   "outputs": [
    {
     "data": {
      "text/html": [
       "<div>\n",
       "<style scoped>\n",
       "    .dataframe tbody tr th:only-of-type {\n",
       "        vertical-align: middle;\n",
       "    }\n",
       "\n",
       "    .dataframe tbody tr th {\n",
       "        vertical-align: top;\n",
       "    }\n",
       "\n",
       "    .dataframe thead th {\n",
       "        text-align: right;\n",
       "    }\n",
       "</style>\n",
       "<table border=\"1\" class=\"dataframe\">\n",
       "  <thead>\n",
       "    <tr style=\"text-align: right;\">\n",
       "      <th></th>\n",
       "      <th>HeatFlux_st</th>\n",
       "    </tr>\n",
       "  </thead>\n",
       "  <tbody>\n",
       "    <tr>\n",
       "      <th>mean</th>\n",
       "      <td>7.815731</td>\n",
       "    </tr>\n",
       "    <tr>\n",
       "      <th>mean_uncertainty</th>\n",
       "      <td>0.059921</td>\n",
       "    </tr>\n",
       "    <tr>\n",
       "      <th>confidence_interval</th>\n",
       "      <td>(7.698286362822392, 7.933175722640756)</td>\n",
       "    </tr>\n",
       "    <tr>\n",
       "      <th>pm_std</th>\n",
       "      <td>(7.755810287675869, 7.875651797787279)</td>\n",
       "    </tr>\n",
       "  </tbody>\n",
       "</table>\n",
       "</div>"
      ],
      "text/plain": [
       "                                                HeatFlux_st\n",
       "mean                                               7.815731\n",
       "mean_uncertainty                                   0.059921\n",
       "confidence_interval  (7.698286362822392, 7.933175722640756)\n",
       "pm_std               (7.755810287675869, 7.875651797787279)"
      ]
     },
     "execution_count": 15,
     "metadata": {},
     "output_type": "execute_result"
    }
   ],
   "source": [
    "exporter = qnds.Exporter()\n",
    "\n",
    "\n",
    "exporter.display_dataframe(stats)"
   ]
  },
  {
   "cell_type": "code",
   "execution_count": 16,
   "id": "479c2461-aa28-421e-b1cf-0d47059365fa",
   "metadata": {},
   "outputs": [
    {
     "name": "stdout",
     "output_type": "stream",
     "text": [
      "{\n",
      "  \"HeatFlux_st\": {\n",
      "    \"mean\": 7.815731042731574,\n",
      "    \"mean_uncertainty\": 0.05992075505570511,\n",
      "    \"confidence_interval\": [\n",
      "      7.698286362822392,\n",
      "      7.933175722640756\n",
      "    ],\n",
      "    \"pm_std\": [\n",
      "      7.755810287675869,\n",
      "      7.875651797787279\n",
      "    ]\n",
      "  }\n",
      "}\n"
     ]
    }
   ],
   "source": [
    "exporter.display_json(stats)"
   ]
  },
  {
   "cell_type": "code",
   "execution_count": null,
   "id": "6762e35f-28b2-4ff0-9ecc-a84946879b94",
   "metadata": {},
   "outputs": [],
   "source": []
  },
  {
   "cell_type": "code",
   "execution_count": 17,
   "id": "8c8dab7b",
   "metadata": {},
   "outputs": [
    {
     "data": {
      "text/plain": [
       "{'HeatFlux_st': {'mean': 7.814366563829788}}"
      ]
     },
     "execution_count": 17,
     "metadata": {},
     "output_type": "execute_result"
    }
   ],
   "source": [
    "mean_df = trimmed_df.mean(window_size=10)\n",
    "mean_df\n"
   ]
  },
  {
   "cell_type": "code",
   "execution_count": 18,
   "id": "b8cfec79-839a-43b4-85ab-bf7f4474d00a",
   "metadata": {},
   "outputs": [
    {
     "data": {
      "text/plain": [
       "{'HeatFlux_st': {'mean': 7.815731042731574}}"
      ]
     },
     "execution_count": 18,
     "metadata": {},
     "output_type": "execute_result"
    }
   ],
   "source": [
    "mean_df = trimmed_df.mean(method=\"sliding\")\n",
    "mean_df"
   ]
  },
  {
   "cell_type": "code",
   "execution_count": 19,
   "id": "cc3fa22d-5176-42d1-8eca-aebbf4ad482a",
   "metadata": {},
   "outputs": [
    {
     "data": {
      "text/plain": [
       "{'HeatFlux_st': {'mean uncertainty': 0.06152838472523044}}"
      ]
     },
     "execution_count": 19,
     "metadata": {},
     "output_type": "execute_result"
    }
   ],
   "source": [
    "uq_df = trimmed_df.mean_uncertainty()\n",
    "uq_df"
   ]
  },
  {
   "cell_type": "code",
   "execution_count": 20,
   "id": "0399988f-270e-4855-a0ae-b86ef9c9ee4c",
   "metadata": {},
   "outputs": [
    {
     "data": {
      "text/plain": [
       "{'HeatFlux_st': {'mean uncertainty': 0.05992075505570511}}"
      ]
     },
     "execution_count": 20,
     "metadata": {},
     "output_type": "execute_result"
    }
   ],
   "source": [
    "uq_df = trimmed_df.mean_uncertainty(method=\"sliding\")\n",
    "uq_df"
   ]
  },
  {
   "cell_type": "code",
   "execution_count": 21,
   "id": "a0d1d508-d140-47be-96f8-de003f2df24a",
   "metadata": {},
   "outputs": [
    {
     "data": {
      "text/plain": [
       "{'HeatFlux_st': {'confidence interval': (7.7042140373289225,\n",
       "   7.9454053054518265)}}"
      ]
     },
     "execution_count": 21,
     "metadata": {},
     "output_type": "execute_result"
    }
   ],
   "source": [
    "ci_df = trimmed_df.confidence_interval()\n",
    "ci_df\n",
    "\n",
    "\n",
    "#ci_df = trimmed_df.confidence_interval(method=\"sliding\")\n",
    "#ci_df"
   ]
  },
  {
   "cell_type": "markdown",
   "id": "21eb0f2d-04b2-41c7-afa0-13d2c6bc4399",
   "metadata": {},
   "source": [
    "### Optimal Window"
   ]
  },
  {
   "cell_type": "code",
   "execution_count": 22,
   "id": "801f3610-a760-40c4-86da-94d190572460",
   "metadata": {},
   "outputs": [
    {
     "data": {
      "text/plain": [
       "{'HeatFlux_st': {'optimal_window_size': 6,\n",
       "  'min_std': 0.033216276141473114,\n",
       "  'mean': 7.811416525170069,\n",
       "  'ci': (7.7463126239327815, 7.876520426407356)}}"
      ]
     },
     "execution_count": 22,
     "metadata": {},
     "output_type": "execute_result"
    }
   ],
   "source": [
    "optimal_df = trimmed_df.optimal_window_size()\n",
    "optimal_df"
   ]
  },
  {
   "cell_type": "code",
   "execution_count": 23,
   "id": "2205e671-fe64-4b90-8d15-2de116647d5c",
   "metadata": {},
   "outputs": [
    {
     "name": "stdout",
     "output_type": "stream",
     "text": [
      "{'HeatFlux_st': {'cumulative_mean': [8.202884211764706, 8.161908814705882, 8.13882439019608, 8.141834522058824, 8.13650626, 8.12164166862745, 8.11527950420168, 8.113012400735293, 8.11355077124183, 8.109208796470588, 8.091481031016043, 8.05896580980392, 8.019286586877827, 7.977056034453781, 7.937049228235295, 7.9062893033088235, 7.880712787197232, 7.8642028578431376, 7.85440483126935, 7.845785091470589, 7.837113956302521, 7.8248096713903745], 'cumulative_uncertainty': [nan, 0.05794796224421031, 0.057250808980962346, 0.047131167974503625, 0.042520137920967815, 0.05265079451529361, 0.05092571474713757, 0.04758210496480172, 0.04453827802005824, 0.04417894510360353, 0.07220534342793225, 0.1320095536411584, 0.1908979873677785, 0.24208816870276026, 0.2800511704180003, 0.2972185198683052, 0.30649365330634937, 0.30548154358997986, 0.2999310107824136, 0.2944655255951616, 0.2897471462551336, 0.28859370539170043], 'standard_error': [nan, 0.04097539705882314, 0.033053769976482454, 0.023565583987251813, 0.01901558376079012, 0.02149459685243275, 0.019248110937020082, 0.016822814541870693, 0.014846092673352747, 0.013970609115093065, 0.021770730182655042, 0.03810787566516258, 0.052945575525954025, 0.06470078461980422, 0.07230890127432069, 0.0743046299670763, 0.07433562977432459, 0.07200269033326956, 0.06880889294918678, 0.06584449322609855, 0.06322801095769477, 0.06152838472523052]}}\n"
     ]
    }
   ],
   "source": [
    "cumulative_df = trimmed_df.cumulative_statistics()\n",
    "print(cumulative_df)\n",
    "\n",
    "#cumulative_df = trimmed_df.cumulative_statistics(method=\"sliding\")\n",
    "#print(cumulative_df)"
   ]
  },
  {
   "cell_type": "code",
   "execution_count": 24,
   "id": "1db21138-cf4b-4321-8df3-a65d3b1be81c",
   "metadata": {},
   "outputs": [
    {
     "data": {
      "text/html": [
       "<div>\n",
       "<style scoped>\n",
       "    .dataframe tbody tr th:only-of-type {\n",
       "        vertical-align: middle;\n",
       "    }\n",
       "\n",
       "    .dataframe tbody tr th {\n",
       "        vertical-align: top;\n",
       "    }\n",
       "\n",
       "    .dataframe thead th {\n",
       "        text-align: right;\n",
       "    }\n",
       "</style>\n",
       "<table border=\"1\" class=\"dataframe\">\n",
       "  <thead>\n",
       "    <tr style=\"text-align: right;\">\n",
       "      <th></th>\n",
       "      <th>HeatFlux_st</th>\n",
       "    </tr>\n",
       "  </thead>\n",
       "  <tbody>\n",
       "    <tr>\n",
       "      <th>cumulative_mean</th>\n",
       "      <td>[8.202884211764706, 8.161908814705882, 8.13882...</td>\n",
       "    </tr>\n",
       "    <tr>\n",
       "      <th>cumulative_uncertainty</th>\n",
       "      <td>[nan, 0.05794796224421031, 0.05725080898096234...</td>\n",
       "    </tr>\n",
       "    <tr>\n",
       "      <th>standard_error</th>\n",
       "      <td>[nan, 0.04097539705882314, 0.03305376997648245...</td>\n",
       "    </tr>\n",
       "  </tbody>\n",
       "</table>\n",
       "</div>"
      ],
      "text/plain": [
       "                                                              HeatFlux_st\n",
       "cumulative_mean         [8.202884211764706, 8.161908814705882, 8.13882...\n",
       "cumulative_uncertainty  [nan, 0.05794796224421031, 0.05725080898096234...\n",
       "standard_error          [nan, 0.04097539705882314, 0.03305376997648245..."
      ]
     },
     "execution_count": 24,
     "metadata": {},
     "output_type": "execute_result"
    }
   ],
   "source": [
    "exporter.display_dataframe(cumulative_df)"
   ]
  },
  {
   "cell_type": "code",
   "execution_count": null,
   "id": "4946bc84-b7f7-4740-b0db-2858dad23941",
   "metadata": {},
   "outputs": [],
   "source": []
  },
  {
   "cell_type": "markdown",
   "id": "be6559c0-abf5-47d9-9c6d-a9a40a67253b",
   "metadata": {},
   "source": [
    "## CGYRO Data Analysis"
   ]
  },
  {
   "cell_type": "code",
   "execution_count": 25,
   "id": "45debba6-7ab9-4aa4-9d2b-88e9e8a9fbcc",
   "metadata": {},
   "outputs": [
    {
     "data": {
      "text/html": [
       "<div>\n",
       "<style scoped>\n",
       "    .dataframe tbody tr th:only-of-type {\n",
       "        vertical-align: middle;\n",
       "    }\n",
       "\n",
       "    .dataframe tbody tr th {\n",
       "        vertical-align: top;\n",
       "    }\n",
       "\n",
       "    .dataframe thead th {\n",
       "        text-align: right;\n",
       "    }\n",
       "</style>\n",
       "<table border=\"1\" class=\"dataframe\">\n",
       "  <thead>\n",
       "    <tr style=\"text-align: right;\">\n",
       "      <th></th>\n",
       "      <th>Unnamed: 0</th>\n",
       "      <th>time</th>\n",
       "      <th>Q_D/Q_GBD</th>\n",
       "      <th>Q_e/Q_GBD</th>\n",
       "    </tr>\n",
       "  </thead>\n",
       "  <tbody>\n",
       "    <tr>\n",
       "      <th>0</th>\n",
       "      <td>0</td>\n",
       "      <td>0.5</td>\n",
       "      <td>0.003355</td>\n",
       "      <td>0.001669</td>\n",
       "    </tr>\n",
       "    <tr>\n",
       "      <th>1</th>\n",
       "      <td>1</td>\n",
       "      <td>1.0</td>\n",
       "      <td>0.003314</td>\n",
       "      <td>0.003338</td>\n",
       "    </tr>\n",
       "    <tr>\n",
       "      <th>2</th>\n",
       "      <td>2</td>\n",
       "      <td>1.5</td>\n",
       "      <td>0.003160</td>\n",
       "      <td>0.003941</td>\n",
       "    </tr>\n",
       "    <tr>\n",
       "      <th>3</th>\n",
       "      <td>3</td>\n",
       "      <td>2.0</td>\n",
       "      <td>0.002480</td>\n",
       "      <td>0.002337</td>\n",
       "    </tr>\n",
       "    <tr>\n",
       "      <th>4</th>\n",
       "      <td>4</td>\n",
       "      <td>2.5</td>\n",
       "      <td>0.002004</td>\n",
       "      <td>0.001941</td>\n",
       "    </tr>\n",
       "  </tbody>\n",
       "</table>\n",
       "</div>"
      ],
      "text/plain": [
       "   Unnamed: 0  time  Q_D/Q_GBD  Q_e/Q_GBD\n",
       "0           0   0.5   0.003355   0.001669\n",
       "1           1   1.0   0.003314   0.003338\n",
       "2           2   1.5   0.003160   0.003941\n",
       "3           3   2.0   0.002480   0.002337\n",
       "4           4   2.5   0.002004   0.001941"
      ]
     },
     "execution_count": 25,
     "metadata": {},
     "output_type": "execute_result"
    }
   ],
   "source": [
    "# Specify the file paths\n",
    "csv_file_path = \"cgyro/output_nu0_50.csv\" \n",
    "data_stream_cg = qnds.from_csv(csv_file_path)\n",
    "data_stream_cg.head()"
   ]
  },
  {
   "cell_type": "code",
   "execution_count": null,
   "id": "f6c60d4c-e172-44e9-a308-b733a3f5fc5c",
   "metadata": {},
   "outputs": [],
   "source": []
  },
  {
   "cell_type": "code",
   "execution_count": 26,
   "id": "d197025f-fa40-4e96-93d4-906f8096f09a",
   "metadata": {},
   "outputs": [
    {
     "data": {
      "text/plain": [
       "1748"
      ]
     },
     "execution_count": 26,
     "metadata": {},
     "output_type": "execute_result"
    }
   ],
   "source": [
    "# Get the number of rows\n",
    "len(data_stream_cg)"
   ]
  },
  {
   "cell_type": "code",
   "execution_count": 27,
   "id": "1781db4f-53fa-4595-b221-71181b240b5f",
   "metadata": {},
   "outputs": [
    {
     "data": {
      "text/html": [
       "<div>\n",
       "<style scoped>\n",
       "    .dataframe tbody tr th:only-of-type {\n",
       "        vertical-align: middle;\n",
       "    }\n",
       "\n",
       "    .dataframe tbody tr th {\n",
       "        vertical-align: top;\n",
       "    }\n",
       "\n",
       "    .dataframe thead th {\n",
       "        text-align: right;\n",
       "    }\n",
       "</style>\n",
       "<table border=\"1\" class=\"dataframe\">\n",
       "  <thead>\n",
       "    <tr style=\"text-align: right;\">\n",
       "      <th></th>\n",
       "      <th>time</th>\n",
       "      <th>Q_D/Q_GBD</th>\n",
       "    </tr>\n",
       "  </thead>\n",
       "  <tbody>\n",
       "    <tr>\n",
       "      <th>0</th>\n",
       "      <td>208.0</td>\n",
       "      <td>12.974854</td>\n",
       "    </tr>\n",
       "    <tr>\n",
       "      <th>1</th>\n",
       "      <td>208.5</td>\n",
       "      <td>13.264263</td>\n",
       "    </tr>\n",
       "    <tr>\n",
       "      <th>2</th>\n",
       "      <td>209.0</td>\n",
       "      <td>13.563313</td>\n",
       "    </tr>\n",
       "    <tr>\n",
       "      <th>3</th>\n",
       "      <td>209.5</td>\n",
       "      <td>13.815548</td>\n",
       "    </tr>\n",
       "    <tr>\n",
       "      <th>4</th>\n",
       "      <td>210.0</td>\n",
       "      <td>14.046638</td>\n",
       "    </tr>\n",
       "  </tbody>\n",
       "</table>\n",
       "</div>"
      ],
      "text/plain": [
       "    time  Q_D/Q_GBD\n",
       "0  208.0  12.974854\n",
       "1  208.5  13.264263\n",
       "2  209.0  13.563313\n",
       "3  209.5  13.815548\n",
       "4  210.0  14.046638"
      ]
     },
     "execution_count": 27,
     "metadata": {},
     "output_type": "execute_result"
    }
   ],
   "source": [
    "# Trim the data based on threshold method\n",
    "trimmed_df = data_stream_cg.trim(column_name='Q_D/Q_GBD', window_size = 10, method='std',  robust=True)\n",
    "# View trimmed data\n",
    "trimmed_df.head()"
   ]
  },
  {
   "cell_type": "code",
   "execution_count": 28,
   "id": "0eb88cf2-d92a-476d-ba92-f83eaab7246d",
   "metadata": {},
   "outputs": [
    {
     "data": {
      "text/plain": [
       "{'Q_D/Q_GBD': 28}"
      ]
     },
     "execution_count": 28,
     "metadata": {},
     "output_type": "execute_result"
    }
   ],
   "source": [
    "ess_df = trimmed_df.effective_sample_size()\n",
    "ess_df"
   ]
  },
  {
   "cell_type": "code",
   "execution_count": 29,
   "id": "17ac9146-d8c9-4f8a-a00f-14d56c9c04a0",
   "metadata": {},
   "outputs": [
    {
     "data": {
      "text/plain": [
       "{'Q_D/Q_GBD': True}"
      ]
     },
     "execution_count": 29,
     "metadata": {},
     "output_type": "execute_result"
    }
   ],
   "source": [
    "# Check if a single column is stationary\n",
    "data_stream_cg.is_stationary('Q_D/Q_GBD')"
   ]
  },
  {
   "cell_type": "code",
   "execution_count": 30,
   "id": "5bec7a9d-c4be-4dce-ae8d-5875743507a2",
   "metadata": {},
   "outputs": [
    {
     "data": {
      "text/plain": [
       "{'Q_D/Q_GBD': {'mean': 26.485931761077083,\n",
       "  'mean_uncertainty': 0.3555104298351744,\n",
       "  'confidence_interval': (25.78913131860014, 27.182732203554025),\n",
       "  'pm_std': (26.13042133124191, 26.841442190912257)}}"
      ]
     },
     "execution_count": 30,
     "metadata": {},
     "output_type": "execute_result"
    }
   ],
   "source": [
    "stats = trimmed_df.compute_statistics(method=\"sliding\")\n",
    "stats"
   ]
  },
  {
   "cell_type": "code",
   "execution_count": null,
   "id": "482decb9-123e-47bc-899b-fd01b8edc3c0",
   "metadata": {},
   "outputs": [],
   "source": []
  },
  {
   "cell_type": "code",
   "execution_count": 31,
   "id": "3bab84fe-e45a-40ba-aba6-a17b95595f54",
   "metadata": {},
   "outputs": [
    {
     "data": {
      "text/plain": [
       "{'Q_D/Q_GBD': {'mean': 26.425842390964057,\n",
       "  'mean_uncertainty': 0.3564504737003372,\n",
       "  'confidence_interval': (25.727199462511397, 27.124485319416717),\n",
       "  'pm_std': (26.06939191726372, 26.782292864664395)}}"
      ]
     },
     "execution_count": 31,
     "metadata": {},
     "output_type": "execute_result"
    }
   ],
   "source": [
    "stats = trimmed_df.compute_statistics()\n",
    "stats"
   ]
  },
  {
   "cell_type": "code",
   "execution_count": 32,
   "id": "d451aa42-5c72-4950-b0fd-327472a9cb92",
   "metadata": {},
   "outputs": [
    {
     "data": {
      "text/html": [
       "<div>\n",
       "<style scoped>\n",
       "    .dataframe tbody tr th:only-of-type {\n",
       "        vertical-align: middle;\n",
       "    }\n",
       "\n",
       "    .dataframe tbody tr th {\n",
       "        vertical-align: top;\n",
       "    }\n",
       "\n",
       "    .dataframe thead th {\n",
       "        text-align: right;\n",
       "    }\n",
       "</style>\n",
       "<table border=\"1\" class=\"dataframe\">\n",
       "  <thead>\n",
       "    <tr style=\"text-align: right;\">\n",
       "      <th></th>\n",
       "      <th>Unnamed: 0</th>\n",
       "      <th>time</th>\n",
       "      <th>Q_D/Q_GBD</th>\n",
       "      <th>Q_e/Q_GBD</th>\n",
       "    </tr>\n",
       "  </thead>\n",
       "  <tbody>\n",
       "    <tr>\n",
       "      <th>0</th>\n",
       "      <td>0</td>\n",
       "      <td>0.5</td>\n",
       "      <td>0.003523</td>\n",
       "      <td>0.002042</td>\n",
       "    </tr>\n",
       "    <tr>\n",
       "      <th>1</th>\n",
       "      <td>1</td>\n",
       "      <td>1.0</td>\n",
       "      <td>0.003461</td>\n",
       "      <td>0.004020</td>\n",
       "    </tr>\n",
       "    <tr>\n",
       "      <th>2</th>\n",
       "      <td>2</td>\n",
       "      <td>1.5</td>\n",
       "      <td>0.003175</td>\n",
       "      <td>0.004207</td>\n",
       "    </tr>\n",
       "    <tr>\n",
       "      <th>3</th>\n",
       "      <td>3</td>\n",
       "      <td>2.0</td>\n",
       "      <td>0.002325</td>\n",
       "      <td>0.002291</td>\n",
       "    </tr>\n",
       "    <tr>\n",
       "      <th>4</th>\n",
       "      <td>4</td>\n",
       "      <td>2.5</td>\n",
       "      <td>0.002028</td>\n",
       "      <td>0.002228</td>\n",
       "    </tr>\n",
       "  </tbody>\n",
       "</table>\n",
       "</div>"
      ],
      "text/plain": [
       "   Unnamed: 0  time  Q_D/Q_GBD  Q_e/Q_GBD\n",
       "0           0   0.5   0.003523   0.002042\n",
       "1           1   1.0   0.003461   0.004020\n",
       "2           2   1.5   0.003175   0.004207\n",
       "3           3   2.0   0.002325   0.002291\n",
       "4           4   2.5   0.002028   0.002228"
      ]
     },
     "execution_count": 32,
     "metadata": {},
     "output_type": "execute_result"
    }
   ],
   "source": [
    "# Specify the file paths\n",
    "csv_file_path = \"cgyro/output_nu0_05.csv\" \n",
    "data_stream_cg = qnds.from_csv(csv_file_path)\n",
    "data_stream_cg.head()"
   ]
  },
  {
   "cell_type": "code",
   "execution_count": 33,
   "id": "b867b34f-2818-44c9-a4a1-19b169994146",
   "metadata": {},
   "outputs": [
    {
     "data": {
      "text/plain": [
       "1710"
      ]
     },
     "execution_count": 33,
     "metadata": {},
     "output_type": "execute_result"
    }
   ],
   "source": [
    "# Get the number of rows\n",
    "len(data_stream_cg)"
   ]
  },
  {
   "cell_type": "code",
   "execution_count": 34,
   "id": "1fac4214-c877-4b56-9cd2-7b162645e6c3",
   "metadata": {},
   "outputs": [
    {
     "data": {
      "text/html": [
       "<div>\n",
       "<style scoped>\n",
       "    .dataframe tbody tr th:only-of-type {\n",
       "        vertical-align: middle;\n",
       "    }\n",
       "\n",
       "    .dataframe tbody tr th {\n",
       "        vertical-align: top;\n",
       "    }\n",
       "\n",
       "    .dataframe thead th {\n",
       "        text-align: right;\n",
       "    }\n",
       "</style>\n",
       "<table border=\"1\" class=\"dataframe\">\n",
       "  <thead>\n",
       "    <tr style=\"text-align: right;\">\n",
       "      <th></th>\n",
       "      <th>time</th>\n",
       "      <th>Q_D/Q_GBD</th>\n",
       "    </tr>\n",
       "  </thead>\n",
       "  <tbody>\n",
       "    <tr>\n",
       "      <th>0</th>\n",
       "      <td>59.0</td>\n",
       "      <td>35.133190</td>\n",
       "    </tr>\n",
       "    <tr>\n",
       "      <th>1</th>\n",
       "      <td>59.5</td>\n",
       "      <td>35.663807</td>\n",
       "    </tr>\n",
       "    <tr>\n",
       "      <th>2</th>\n",
       "      <td>60.0</td>\n",
       "      <td>36.078209</td>\n",
       "    </tr>\n",
       "    <tr>\n",
       "      <th>3</th>\n",
       "      <td>60.5</td>\n",
       "      <td>36.255959</td>\n",
       "    </tr>\n",
       "    <tr>\n",
       "      <th>4</th>\n",
       "      <td>61.0</td>\n",
       "      <td>36.713226</td>\n",
       "    </tr>\n",
       "  </tbody>\n",
       "</table>\n",
       "</div>"
      ],
      "text/plain": [
       "   time  Q_D/Q_GBD\n",
       "0  59.0  35.133190\n",
       "1  59.5  35.663807\n",
       "2  60.0  36.078209\n",
       "3  60.5  36.255959\n",
       "4  61.0  36.713226"
      ]
     },
     "execution_count": 34,
     "metadata": {},
     "output_type": "execute_result"
    }
   ],
   "source": [
    "# Trim the data based on threshold method\n",
    "trimmed_df = data_stream_cg.trim(column_name='Q_D/Q_GBD', window_size = 60, method='rolling_variance')\n",
    "# View trimmed data\n",
    "trimmed_df.head()"
   ]
  },
  {
   "cell_type": "code",
   "execution_count": 35,
   "id": "2b39a650-3f8c-4457-8198-155ff30e7d2e",
   "metadata": {},
   "outputs": [
    {
     "data": {
      "text/plain": [
       "{'Q_D/Q_GBD': {'mean': 38.10045767902535,\n",
       "  'mean_uncertainty': 0.6197965628781142,\n",
       "  'confidence_interval': (36.88565641578424, 39.31525894226645),\n",
       "  'pm_std': (37.48066111614723, 38.72025424190346)}}"
      ]
     },
     "execution_count": 35,
     "metadata": {},
     "output_type": "execute_result"
    }
   ],
   "source": [
    "stats = trimmed_df.compute_statistics(method=\"sliding\")\n",
    "stats"
   ]
  },
  {
   "cell_type": "code",
   "execution_count": 36,
   "id": "b68fdae3-1209-4291-88ed-342b197c39d4",
   "metadata": {},
   "outputs": [
    {
     "data": {
      "text/plain": [
       "{'Q_D/Q_GBD': {'mean': 38.068196484668384,\n",
       "  'mean_uncertainty': 0.6210699095781571,\n",
       "  'confidence_interval': (36.850899461895196, 39.28549350744157),\n",
       "  'pm_std': (37.44712657509022, 38.689266394246545)}}"
      ]
     },
     "execution_count": 36,
     "metadata": {},
     "output_type": "execute_result"
    }
   ],
   "source": [
    "stats = trimmed_df.compute_statistics()\n",
    "stats"
   ]
  },
  {
   "cell_type": "code",
   "execution_count": 37,
   "id": "27d59e90-1163-452e-b69d-3b04a473bef7",
   "metadata": {},
   "outputs": [
    {
     "data": {
      "text/plain": [
       "{'Q_D/Q_GBD': {'optimal_window_size': 6,\n",
       "  'min_std': 0.28330383581239704,\n",
       "  'mean': 38.23708208862941,\n",
       "  'ci': (37.68180657043711, 38.7923576068217)}}"
      ]
     },
     "execution_count": 37,
     "metadata": {},
     "output_type": "execute_result"
    }
   ],
   "source": [
    "optimal_df = trimmed_df.optimal_window_size(method=\"sliding\")\n",
    "optimal_df"
   ]
  },
  {
   "cell_type": "code",
   "execution_count": 38,
   "id": "7e48cf80-c44f-46f3-9462-f95d670078c8",
   "metadata": {},
   "outputs": [
    {
     "data": {
      "text/plain": [
       "{'Q_D/Q_GBD': {'optimal_window_size': 711,\n",
       "  'min_std': 0.10090110673421666,\n",
       "  'mean': 36.62747894053312,\n",
       "  'ci': (36.42971277133406, 36.82524510973219)}}"
      ]
     },
     "execution_count": 38,
     "metadata": {},
     "output_type": "execute_result"
    }
   ],
   "source": [
    "optimal_df = trimmed_df.optimal_window_size()\n",
    "optimal_df"
   ]
  },
  {
   "cell_type": "code",
   "execution_count": 39,
   "id": "7dd9a80c-0b3c-4175-ab4e-088848daa3e9",
   "metadata": {},
   "outputs": [
    {
     "data": {
      "text/html": [
       "<div>\n",
       "<style scoped>\n",
       "    .dataframe tbody tr th:only-of-type {\n",
       "        vertical-align: middle;\n",
       "    }\n",
       "\n",
       "    .dataframe tbody tr th {\n",
       "        vertical-align: top;\n",
       "    }\n",
       "\n",
       "    .dataframe thead th {\n",
       "        text-align: right;\n",
       "    }\n",
       "</style>\n",
       "<table border=\"1\" class=\"dataframe\">\n",
       "  <thead>\n",
       "    <tr style=\"text-align: right;\">\n",
       "      <th></th>\n",
       "      <th>time</th>\n",
       "      <th>Q_D/Q_GBD</th>\n",
       "    </tr>\n",
       "  </thead>\n",
       "  <tbody>\n",
       "    <tr>\n",
       "      <th>0</th>\n",
       "      <td>777.0</td>\n",
       "      <td>110.636703</td>\n",
       "    </tr>\n",
       "    <tr>\n",
       "      <th>1</th>\n",
       "      <td>777.5</td>\n",
       "      <td>103.416016</td>\n",
       "    </tr>\n",
       "    <tr>\n",
       "      <th>2</th>\n",
       "      <td>778.0</td>\n",
       "      <td>96.325874</td>\n",
       "    </tr>\n",
       "    <tr>\n",
       "      <th>3</th>\n",
       "      <td>778.5</td>\n",
       "      <td>86.641785</td>\n",
       "    </tr>\n",
       "    <tr>\n",
       "      <th>4</th>\n",
       "      <td>779.0</td>\n",
       "      <td>77.751900</td>\n",
       "    </tr>\n",
       "  </tbody>\n",
       "</table>\n",
       "</div>"
      ],
      "text/plain": [
       "    time   Q_D/Q_GBD\n",
       "0  777.0  110.636703\n",
       "1  777.5  103.416016\n",
       "2  778.0   96.325874\n",
       "3  778.5   86.641785\n",
       "4  779.0   77.751900"
      ]
     },
     "execution_count": 39,
     "metadata": {},
     "output_type": "execute_result"
    }
   ],
   "source": [
    "# Trim the data based on threshold method\n",
    "trimmed_df = data_stream_cg.trim(column_name='Q_D/Q_GBD', window_size = 10, method='std',  robust=True)\n",
    "# View trimmed data\n",
    "trimmed_df.head()"
   ]
  },
  {
   "cell_type": "code",
   "execution_count": 40,
   "id": "b2d5696b-8f76-4c76-9549-bca329b4623e",
   "metadata": {},
   "outputs": [
    {
     "data": {
      "text/plain": [
       "{'Q_D/Q_GBD': True}"
      ]
     },
     "execution_count": 40,
     "metadata": {},
     "output_type": "execute_result"
    }
   ],
   "source": [
    "data_stream_cg.is_stationary(\"Q_D/Q_GBD\")"
   ]
  },
  {
   "cell_type": "code",
   "execution_count": 41,
   "id": "f0262764-4541-421f-b1d4-efc43baee9f9",
   "metadata": {},
   "outputs": [],
   "source": [
    "plotter=qnds.Plotter()"
   ]
  },
  {
   "cell_type": "code",
   "execution_count": 42,
   "id": "8d32e442-44dc-4951-9167-84440db1726e",
   "metadata": {},
   "outputs": [
    {
     "data": {
      "image/png": "[encoded data removed]",
      "text/plain": [
       "<Figure size 800x600 with 1 Axes>"
      ]
     },
     "metadata": {},
     "output_type": "display_data"
    }
   ],
   "source": [
    "plotter.trace_plot(data_stream_cg,[\"Q_D/Q_GBD\"])"
   ]
  },
  {
   "cell_type": "code",
   "execution_count": 43,
   "id": "ab9ef448-9ff5-494d-a70e-a5bf491d1f47",
   "metadata": {},
   "outputs": [
    {
     "data": {
      "image/png": "[encoded data removed]",
      "text/plain": [
       "<Figure size 800x600 with 1 Axes>"
      ]
     },
     "metadata": {},
     "output_type": "display_data"
    }
   ],
   "source": [
    "plotter.trace_plot(trimmed_df)"
   ]
  },
  {
   "cell_type": "code",
   "execution_count": 44,
   "id": "fc816195-d6fc-4f13-868f-cbf4c013ad15",
   "metadata": {},
   "outputs": [
    {
     "data": {
      "image/png": "[encoded data removed]",
      "text/plain": [
       "<Figure size 800x600 with 1 Axes>"
      ]
     },
     "metadata": {},
     "output_type": "display_data"
    }
   ],
   "source": [
    "plotter.steady_state_automatic_plot(data_stream_cg,[\"Q_D/Q_GBD\"])"
   ]
  },
  {
   "cell_type": "code",
   "execution_count": 45,
   "id": "105c4ce0-38ad-4870-850a-c46798176d82",
   "metadata": {},
   "outputs": [
    {
     "data": {
      "image/png": "[encoded data removed]",
      "text/plain": [
       "<Figure size 800x600 with 1 Axes>"
      ]
     },
     "metadata": {},
     "output_type": "display_data"
    }
   ],
   "source": [
    "plotter.steady_state_automatic_plot(trimmed_df)"
   ]
  },
  {
   "cell_type": "code",
   "execution_count": 46,
   "id": "5ff75043-434a-4e81-9f3b-f82c393826f6",
   "metadata": {},
   "outputs": [
    {
     "data": {
      "image/png": "[encoded data removed]",
      "text/plain": [
       "<Figure size 800x600 with 1 Axes>"
      ]
     },
     "metadata": {},
     "output_type": "display_data"
    }
   ],
   "source": [
    "plotter.steady_state_plot(data_stream_cg,[\"Q_D/Q_GBD\"], 158.59)"
   ]
  },
  {
   "cell_type": "code",
   "execution_count": 47,
   "id": "91a68da8-0d30-49e8-bc81-58eab76b3672",
   "metadata": {},
   "outputs": [],
   "source": [
    "addition_info = trimmed_df.additional_data(method=\"sliding\")"
   ]
  },
  {
   "cell_type": "code",
   "execution_count": 48,
   "id": "75f20cd3-5673-464e-8bb8-44fc1f680cad",
   "metadata": {},
   "outputs": [
    {
     "data": {
      "text/plain": [
       "{'Q_D/Q_GBD': {'A_est': 2.99071708617441,\n",
       "  'p_est': 0.2844115455224129,\n",
       "  'n_current': 127,\n",
       "  'current_sem': 0.7541005614386169,\n",
       "  'target_sem': 0.6786905052947553,\n",
       "  'n_target': 183.94521997798063,\n",
       "  'additional_samples': 57}}"
      ]
     },
     "execution_count": 48,
     "metadata": {},
     "output_type": "execute_result"
    }
   ],
   "source": [
    "addition_info"
   ]
  },
  {
   "cell_type": "code",
   "execution_count": 49,
   "id": "eb257071-3922-42ca-aaae-6ffaf5a6a01b",
   "metadata": {},
   "outputs": [
    {
     "data": {
      "text/plain": [
       "{'Q_D/Q_GBD': {'A_est': 2.99071708617441,\n",
       "  'p_est': 0.2844115455224129,\n",
       "  'n_current': 127,\n",
       "  'current_sem': 0.7541005614386169,\n",
       "  'target_sem': 0.6786905052947553,\n",
       "  'n_target': 183.94521997798063,\n",
       "  'additional_samples': 57}}"
      ]
     },
     "execution_count": 49,
     "metadata": {},
     "output_type": "execute_result"
    }
   ],
   "source": [
    "addition_info = trimmed_df.additional_data()\n",
    "addition_info"
   ]
  },
  {
   "cell_type": "code",
   "execution_count": 50,
   "id": "342b7412-1d15-411a-b820-99a01277e36f",
   "metadata": {},
   "outputs": [],
   "source": [
    "reduction_factor=0.1"
   ]
  },
  {
   "cell_type": "code",
   "execution_count": 51,
   "id": "df87951f-e55b-4033-8318-1402ae256cb9",
   "metadata": {},
   "outputs": [
    {
     "data": {
      "text/plain": [
       "{'Q_D/Q_GBD': {'A_est': 2.99071708617441,\n",
       "  'p_est': 0.2844115455224129,\n",
       "  'n_current': 127,\n",
       "  'current_sem': 0.7541005614386169,\n",
       "  'target_sem': 0.6032804491508936,\n",
       "  'n_target': 278.31870523518984,\n",
       "  'additional_samples': 152}}"
      ]
     },
     "execution_count": 51,
     "metadata": {},
     "output_type": "execute_result"
    }
   ],
   "source": [
    "addition_info = trimmed_df.additional_data(reduction_factor=0.2)\n",
    "addition_info"
   ]
  },
  {
   "cell_type": "code",
   "execution_count": 52,
   "id": "71ade002-d90a-436b-849b-e75d81fb7790",
   "metadata": {},
   "outputs": [
    {
     "data": {
      "text/plain": [
       "{'Q_D/Q_GBD': {'A_est': 2.99071708617441,\n",
       "  'p_est': 0.2844115455224129,\n",
       "  'n_current': 127,\n",
       "  'current_sem': 0.7541005614386169,\n",
       "  'target_sem': 0.6032804491508936,\n",
       "  'n_target': 278.31870523518984,\n",
       "  'additional_samples': 152}}"
      ]
     },
     "execution_count": 52,
     "metadata": {},
     "output_type": "execute_result"
    }
   ],
   "source": [
    "addition_info = trimmed_df.additional_data(method=\"sliding\", reduction_factor=0.2)\n",
    "addition_info"
   ]
  },
  {
   "cell_type": "code",
   "execution_count": null,
   "id": "f098a8fd-2226-4658-8ee8-79e4221acf88",
   "metadata": {},
   "outputs": [],
   "source": []
  }
 ],
 "metadata": {
  "kernelspec": {
   "display_name": "Python 3 (ipykernel)",
   "language": "python",
   "name": "python3"
  },
  "language_info": {
   "codemirror_mode": {
    "name": "ipython",
    "version": 3
   },
   "file_extension": ".py",
   "mimetype": "text/x-python",
   "name": "python",
   "nbconvert_exporter": "python",
   "pygments_lexer": "ipython3",
   "version": "3.12.4"
  }
 },
 "nbformat": 4,
 "nbformat_minor": 5
}
