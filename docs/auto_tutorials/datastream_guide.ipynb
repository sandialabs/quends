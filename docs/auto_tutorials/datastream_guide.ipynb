{
  "cells": [
    {
      "cell_type": "markdown",
      "metadata": {},
      "source": [
        "\n# DataStream Class\nThis tutorial demonstrates the usage of the DataStream class,\nwhich provides methods for analyzing time-series data.\n\nThe following features are:\n    - **Trimming**: Identifies steady-state regions in data.\n    - **Statistical Analysis**: Computes mean, standard deviation, confidence intervals, and cumulative statistics.\n    - **Stationarity Testing**: Uses the Augmented Dickey-Fuller test.\n    - **Effective Sample Size (ESS)**: Estimates the independent sample size.\n    - **Optimal Window Size**: Determines the best window for data smoothing.\n"
      ]
    },
    {
      "cell_type": "markdown",
      "metadata": {},
      "source": [
        "Import DataStream\n\n"
      ]
    },
    {
      "cell_type": "code",
      "execution_count": null,
      "metadata": {
        "collapsed": false
      },
      "outputs": [],
      "source": [
        "import quends as qnds"
      ]
    },
    {
      "cell_type": "markdown",
      "metadata": {},
      "source": [
        "# GX Data Analysis\nAnalysis on GX Data\n\n"
      ]
    },
    {
      "cell_type": "code",
      "execution_count": null,
      "metadata": {
        "collapsed": false
      },
      "outputs": [],
      "source": [
        "# Specify the file paths\ncsv_file_path = \"gx/tprim_2_0.out.csv\"\ncsv2_file_path = \"gx/ensemble/tprim_2_5_a.out.csv\"\n\n# Load the data from CSV files\ndata_stream_csv = qnds.from_csv(csv_file_path)\ndata_stream_gx = qnds.from_csv(csv2_file_path)\n\n# Display the first few rows of the GX data\ndata_stream_gx.head()"
      ]
    },
    {
      "cell_type": "markdown",
      "metadata": {},
      "source": [
        "Get available variables\n\n"
      ]
    },
    {
      "cell_type": "code",
      "execution_count": null,
      "metadata": {
        "collapsed": false
      },
      "outputs": [],
      "source": [
        "data_stream_gx.variables()"
      ]
    },
    {
      "cell_type": "markdown",
      "metadata": {},
      "source": [
        "Get number of rows from the following data in GX\n\n"
      ]
    },
    {
      "cell_type": "code",
      "execution_count": null,
      "metadata": {
        "collapsed": false
      },
      "outputs": [],
      "source": [
        "len(data_stream_gx)"
      ]
    },
    {
      "cell_type": "markdown",
      "metadata": {},
      "source": [
        "## Stationary Check\n\n\n"
      ]
    },
    {
      "cell_type": "code",
      "execution_count": null,
      "metadata": {
        "collapsed": false
      },
      "outputs": [],
      "source": [
        "# Check if a single column is stationary\ndata_stream_gx.is_stationary(\"HeatFlux_st\")\n\n# Check if multiple columns are stationary\ndata_stream_gx.is_stationary([\"HeatFlux_st\", \"Wg_st\", \"Phi2_t\"])"
      ]
    },
    {
      "cell_type": "markdown",
      "metadata": {},
      "source": [
        "## Trimming data based to obtain steady-state portion\n\n\n"
      ]
    },
    {
      "cell_type": "markdown",
      "metadata": {},
      "source": [
        "Trim the data based on standard deviation method\n\n"
      ]
    },
    {
      "cell_type": "code",
      "execution_count": null,
      "metadata": {
        "collapsed": false
      },
      "outputs": [],
      "source": [
        "# Returns: Dictionary with keys like \"results\" and \"metadata\"\ntrimmed = data_stream_gx.trim(column_name=\"HeatFlux_st\", batch_size=50, method=\"std\")\n\n# Print first 5 rows of dataframe\ntrimmed.head()"
      ]
    },
    {
      "cell_type": "markdown",
      "metadata": {},
      "source": [
        "Trim the data based on rolling variance method\n\n"
      ]
    },
    {
      "cell_type": "code",
      "execution_count": null,
      "metadata": {
        "collapsed": false
      },
      "outputs": [],
      "source": [
        "trimmed = data_stream_gx.trim(\n    column_name=\"HeatFlux_st\", batch_size=50, method=\"rolling_variance\", threshold=0.10\n)\n\n# Gather results\ntrimmed.head()"
      ]
    },
    {
      "cell_type": "markdown",
      "metadata": {},
      "source": [
        "Trim the data based on threshold method\n\n"
      ]
    },
    {
      "cell_type": "code",
      "execution_count": null,
      "metadata": {
        "collapsed": false
      },
      "outputs": [],
      "source": [
        "trimmed = data_stream_gx.trim(\n    column_name=\"HeatFlux_st\", batch_size=50, method=\"threshold\", threshold=0.1\n)\n\n# View trimmed data\ntrimmed.head()"
      ]
    },
    {
      "cell_type": "markdown",
      "metadata": {},
      "source": [
        "## Effective Sample Size\n\nCompute Effective Sample Size for specific columns in GX\n\n"
      ]
    },
    {
      "cell_type": "code",
      "execution_count": null,
      "metadata": {
        "collapsed": false
      },
      "outputs": [],
      "source": [
        "ess_dict = data_stream_gx.effective_sample_size(column_names=[\"HeatFlux_st\", \"Wg_st\"])\nprint(ess_dict)"
      ]
    },
    {
      "cell_type": "markdown",
      "metadata": {},
      "source": [
        "Compute Effective sample size for trimmed data\n\n"
      ]
    },
    {
      "cell_type": "code",
      "execution_count": null,
      "metadata": {
        "collapsed": false
      },
      "outputs": [],
      "source": [
        "ess_df = trimmed.effective_sample_size()\nprint(ess_df)"
      ]
    },
    {
      "cell_type": "markdown",
      "metadata": {},
      "source": [
        "# UQ Analysis\n\nCompute Statistics on trimmed dataframe\n\n"
      ]
    },
    {
      "cell_type": "code",
      "execution_count": null,
      "metadata": {
        "collapsed": false
      },
      "outputs": [],
      "source": [
        "stats = trimmed.compute_statistics(method=\"sliding\")\nprint(stats)\n\nstats_df = stats[\"HeatFlux_st\"]"
      ]
    },
    {
      "cell_type": "markdown",
      "metadata": {},
      "source": [
        "Exporter\nBelow Displays the information as a DataFrame\n\n"
      ]
    },
    {
      "cell_type": "code",
      "execution_count": null,
      "metadata": {
        "collapsed": false
      },
      "outputs": [],
      "source": [
        "exporter = qnds.Exporter()\nexporter.display_dataframe(stats_df)"
      ]
    },
    {
      "cell_type": "markdown",
      "metadata": {},
      "source": [
        "Below Displays the information in JSON\n\n"
      ]
    },
    {
      "cell_type": "code",
      "execution_count": null,
      "metadata": {
        "collapsed": false
      },
      "outputs": [],
      "source": [
        "exporter.display_json(stats_df)"
      ]
    },
    {
      "cell_type": "markdown",
      "metadata": {},
      "source": [
        "## Other statistical methods\ncompute statistics <- double check\n\n"
      ]
    },
    {
      "cell_type": "markdown",
      "metadata": {},
      "source": [
        "Calculate the mean with a window size of 10\n\n"
      ]
    },
    {
      "cell_type": "code",
      "execution_count": null,
      "metadata": {
        "collapsed": false
      },
      "outputs": [],
      "source": [
        "mean_df = trimmed.mean(window_size=10)\nprint(mean_df)"
      ]
    },
    {
      "cell_type": "markdown",
      "metadata": {},
      "source": [
        "Calculate the mean with the method of sliding\n\n"
      ]
    },
    {
      "cell_type": "code",
      "execution_count": null,
      "metadata": {
        "collapsed": false
      },
      "outputs": [],
      "source": [
        "mean_df = trimmed.mean(method=\"sliding\")\nprint(mean_df)"
      ]
    },
    {
      "cell_type": "markdown",
      "metadata": {},
      "source": [
        "Calculate the mean uncertainty\n\n"
      ]
    },
    {
      "cell_type": "code",
      "execution_count": null,
      "metadata": {
        "collapsed": false
      },
      "outputs": [],
      "source": [
        "uq_df = trimmed.mean_uncertainty()\nprint(uq_df)"
      ]
    },
    {
      "cell_type": "markdown",
      "metadata": {},
      "source": [
        "Calculate the mean uncertainty with the method of sliding\n\n"
      ]
    },
    {
      "cell_type": "code",
      "execution_count": null,
      "metadata": {
        "collapsed": false
      },
      "outputs": [],
      "source": [
        "uq_df = trimmed.mean_uncertainty(method=\"sliding\")\nuq_df"
      ]
    },
    {
      "cell_type": "markdown",
      "metadata": {},
      "source": [
        "Calculate the confidence intervale with the trimmed dataframe\n\n"
      ]
    },
    {
      "cell_type": "code",
      "execution_count": null,
      "metadata": {
        "collapsed": false
      },
      "outputs": [],
      "source": [
        "ci_df = trimmed.confidence_interval()\nprint(ci_df)"
      ]
    },
    {
      "cell_type": "markdown",
      "metadata": {},
      "source": [
        "## Optimal Window\n\n\n"
      ]
    },
    {
      "cell_type": "markdown",
      "metadata": {},
      "source": [
        "Calulcautes the optimal window size\n\n"
      ]
    },
    {
      "cell_type": "code",
      "execution_count": null,
      "metadata": {
        "collapsed": false
      },
      "outputs": [],
      "source": [
        "optimal_df = trimmed.optimal_window_size()\nprint(optimal_df)"
      ]
    },
    {
      "cell_type": "markdown",
      "metadata": {},
      "source": [
        "Cumlative Statistics\n\n"
      ]
    },
    {
      "cell_type": "code",
      "execution_count": null,
      "metadata": {
        "collapsed": false
      },
      "outputs": [],
      "source": [
        "cumulative = trimmed.cumulative_statistics()\nprint(cumulative)\n\ncumulative_df = cumulative[\"HeatFlux_st\"]"
      ]
    },
    {
      "cell_type": "markdown",
      "metadata": {},
      "source": [
        "Display Cumulative Statistics as a DataFrame\n\n"
      ]
    },
    {
      "cell_type": "code",
      "execution_count": null,
      "metadata": {
        "collapsed": false
      },
      "outputs": [],
      "source": [
        "exporter.display_dataframe(cumulative_df)"
      ]
    },
    {
      "cell_type": "markdown",
      "metadata": {},
      "source": [
        "## CGYRO Data Analysis\n\n\n"
      ]
    },
    {
      "cell_type": "markdown",
      "metadata": {},
      "source": [
        "Specify the file paths\n\n"
      ]
    },
    {
      "cell_type": "code",
      "execution_count": null,
      "metadata": {
        "collapsed": false
      },
      "outputs": [],
      "source": [
        "csv_file_path = \"cgyro/output_nu0_50.csv\"\ndata_stream_cg = qnds.from_csv(csv_file_path)\ndata_stream_cg.head()"
      ]
    },
    {
      "cell_type": "markdown",
      "metadata": {},
      "source": [
        "Get the number of rows\n\n"
      ]
    },
    {
      "cell_type": "code",
      "execution_count": null,
      "metadata": {
        "collapsed": false
      },
      "outputs": [],
      "source": [
        "len(data_stream_cg)"
      ]
    },
    {
      "cell_type": "markdown",
      "metadata": {},
      "source": [
        "Trim the data based on threshold method\n\n"
      ]
    },
    {
      "cell_type": "code",
      "execution_count": null,
      "metadata": {
        "collapsed": false
      },
      "outputs": [],
      "source": [
        "trimmed_ = data_stream_cg.trim(column_name=\"Q_D/Q_GBD\", method=\"std\", robust=True)\n# View trimmed data\nprint(trimmed_)"
      ]
    },
    {
      "cell_type": "code",
      "execution_count": null,
      "metadata": {
        "collapsed": false
      },
      "outputs": [],
      "source": [
        "trimmed_.head()"
      ]
    },
    {
      "cell_type": "markdown",
      "metadata": {},
      "source": [
        "To check if data stream is stationary\n\n"
      ]
    },
    {
      "cell_type": "code",
      "execution_count": null,
      "metadata": {
        "collapsed": false
      },
      "outputs": [],
      "source": [
        "data_stream_cg.is_stationary(\"Q_D/Q_GBD\")"
      ]
    },
    {
      "cell_type": "markdown",
      "metadata": {},
      "source": [
        "To Plot for DataStream\n\n"
      ]
    },
    {
      "cell_type": "code",
      "execution_count": null,
      "metadata": {
        "collapsed": false
      },
      "outputs": [],
      "source": [
        "plotter = qnds.Plotter()\nplot = plotter.trace_plot(data_stream_cg, [\"Q_D/Q_GBD\"])"
      ]
    },
    {
      "cell_type": "code",
      "execution_count": null,
      "metadata": {
        "collapsed": false
      },
      "outputs": [],
      "source": [
        "plot = plotter.trace_plot(trimmed)"
      ]
    },
    {
      "cell_type": "code",
      "execution_count": null,
      "metadata": {
        "collapsed": false
      },
      "outputs": [],
      "source": [
        "plot = plotter.steady_state_automatic_plot(\n    data_stream_cg, variables_to_plot=[\"Q_D/Q_GBD\"]\n)"
      ]
    },
    {
      "cell_type": "code",
      "execution_count": null,
      "metadata": {
        "collapsed": false
      },
      "outputs": [],
      "source": [
        "plot = plotter.steady_state_plot(data_stream_cg, variables_to_plot=[\"Q_D/Q_GBD\"])"
      ]
    },
    {
      "cell_type": "markdown",
      "metadata": {},
      "source": [
        "To show additional data use:\n\n"
      ]
    },
    {
      "cell_type": "code",
      "execution_count": null,
      "metadata": {
        "collapsed": false
      },
      "outputs": [],
      "source": [
        "addition_info = trimmed.additional_data(method=\"sliding\")\nprint(addition_info)"
      ]
    },
    {
      "cell_type": "markdown",
      "metadata": {},
      "source": [
        "To add a reduction factor\n\n"
      ]
    },
    {
      "cell_type": "code",
      "execution_count": null,
      "metadata": {
        "collapsed": false
      },
      "outputs": [],
      "source": [
        "addition_info = trimmed.additional_data(reduction_factor=0.2)\nprint(addition_info)"
      ]
    }
  ],
  "metadata": {
    "kernelspec": {
      "display_name": "Python 3",
      "language": "python",
      "name": "python3"
    },
    "language_info": {
      "codemirror_mode": {
        "name": "ipython",
        "version": 3
      },
      "file_extension": ".py",
      "mimetype": "text/x-python",
      "name": "python",
      "nbconvert_exporter": "python",
      "pygments_lexer": "ipython3",
      "version": "3.12.4"
    }
  },
  "nbformat": 4,
  "nbformat_minor": 0
}